{
 "cells": [
  {
   "cell_type": "markdown",
   "metadata": {},
   "source": [
    "## Loading packages"
   ]
  },
  {
   "cell_type": "code",
   "execution_count": 5,
   "metadata": {
    "collapsed": true
   },
   "outputs": [],
   "source": [
    "import numpy as np\n",
    "from scipy import sparse as sp\n",
    "%matplotlib inline\n",
    "from matplotlib import pyplot as plt"
   ]
  },
  {
   "cell_type": "markdown",
   "metadata": {},
   "source": [
    "Just for reference.  Here is our Schrodinger equation\n",
    "$$\\partial_t \\psi + \\frac{1}{2} f^i \\partial_i \\psi + \\frac{1}{2}\\partial_i \\left( f^i \\cdot \\psi \\right)$$\n",
    "Let's try plotting something"
   ]
  },
  {
   "cell_type": "code",
   "execution_count": 6,
   "metadata": {
    "collapsed": false
   },
   "outputs": [
    {
     "data": {
      "image/png": "[encoded data removed]",
      "text/plain": [
       "<matplotlib.figure.Figure at 0x110ff4550>"
      ]
     },
     "metadata": {},
     "output_type": "display_data"
    }
   ],
   "source": [
    "x = np.linspace(-np.pi , np.pi , 200)\n",
    "y = np.sin(x)\n",
    "plt.plot(x,y)\n",
    "plt.show()"
   ]
  },
  {
   "cell_type": "markdown",
   "metadata": {
    "collapsed": true
   },
   "source": [
    "I suggest you look into using the numpy.polynomial.legendre module.\n",
    "Documentation can be found at:\n",
    "http://docs.scipy.org/doc/numpy-1.10.0/reference/routines.polynomials.legendre.html\n",
    "\n",
    "I also suggest looking into the kronecker product routines in numpy.\n",
    "http://docs.scipy.org/doc/numpy-1.10.1/reference/generated/numpy.kron.html"
   ]
  },
  {
   "cell_type": "code",
   "execution_count": 7,
   "metadata": {
    "collapsed": true
   },
   "outputs": [],
   "source": [
    "from numpy.polynomial import legendre"
   ]
  },
  {
   "cell_type": "markdown",
   "metadata": {},
   "source": [
    "We are going to construct a MxN operator A, which represents the left hand side of Schrodinger's equation.\n",
    "My guess is that our convergence rate (in L2) will be something like\n",
    "$$ \\| \\psi_{num} - \\psi_{exact} \\|_2 = \\mathcal{O}( (N-M)^{-(s-1)/d} )$$"
   ]
  },
  {
   "cell_type": "code",
   "execution_count": 3,
   "metadata": {
    "collapsed": true
   },
   "outputs": [],
   "source": [
    "N = 12 #denotes the number of coloumns \n",
    "M = 4  #denotes the number of rows"
   ]
  },
  {
   "cell_type": "markdown",
   "metadata": {},
   "source": [
    "Okay.  Let's declare some functions."
   ]
  },
  {
   "cell_type": "code",
   "execution_count": 8,
   "metadata": {
    "collapsed": false
   },
   "outputs": [],
   "source": [
    "def mult_by_x(k):\n",
    "    # this yields a matrix representation of the operator which multiplies psi(x,t) by x^k\n",
    "    return 0"
   ]
  },
  {
   "cell_type": "code",
   "execution_count": null,
   "metadata": {
    "collapsed": true
   },
   "outputs": [],
   "source": [
    "def differentiate_by_x():\n",
    "    # this yields a matrix representation of the operator which differntiates psi(x,t) by x\n",
    "    return 0"
   ]
  },
  {
   "cell_type": "code",
   "execution_count": null,
   "metadata": {
    "collapsed": true
   },
   "outputs": [],
   "source": [
    "def differentiate_by_t():\n",
    "    # this yields a matrix representation of the operator which differntiates psi(x,t) by t\n",
    "    return 0"
   ]
  }
 ],
 "metadata": {
  "kernelspec": {
   "display_name": "Python 2",
   "language": "python",
   "name": "python2"
  },
  "language_info": {
   "codemirror_mode": {
    "name": "ipython",
    "version": 2
   },
   "file_extension": ".py",
   "mimetype": "text/x-python",
   "name": "python",
   "nbconvert_exporter": "python",
   "pygments_lexer": "ipython2",
   "version": "2.7.10"
  }
 },
 "nbformat": 4,
 "nbformat_minor": 0
}
